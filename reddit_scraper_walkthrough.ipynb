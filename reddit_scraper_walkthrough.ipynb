{
 "cells": [
  {
   "cell_type": "markdown",
   "metadata": {},
   "source": [
    "## Reddit scraper"
   ]
  },
  {
   "cell_type": "markdown",
   "metadata": {},
   "source": [
    "- reddit ranks its subreddits by total member count - here are [the top 250 subreddits ranked by ths metric](https://www.reddit.com/best/communities/1/)\n",
    "\n",
    "- at the top of every subreddit you will find two numbers: \n",
    "\n",
    "    - total member count: the total number of registered reddit users who have joined the subreddit\n",
    "    - online now: number of registered reddit users who have joined the subreddit and who have been on the subreddit [sometime in the past 15 minutes](https://www.reddit.com/r/NoStupidQuestions/comments/9pn1ib/when_a_subbreddit_has_the_online_count_is_that/)\n",
    "\n",
    "- since reddit has no identity verification on registration, both numbers likely contain \"bot\" accounts, and the former long un-used accounts\n",
    "\n",
    "- for example, here are screenshots of the top 3 subreddits by size - displaying these two numbers\n",
    "\n",
    "\n",
    "<img src=\"imgs/funny.png\" width=25%>\n",
    "<img src=\"imgs/ask_reddit.png\" width=25%>\n",
    "<img src=\"imgs/gaming.png\" width=25%>\n",
    "\n",
    "- lets see how we can scrape these two numbers from the top 50 subreddits as ranked by reddit - by total member count\n",
    "\n",
    "- we will also setup a simple schedule to continuously scrape these numbers ever interval of our choosing (e.g., every 30 minutes)"
   ]
  },
  {
   "cell_type": "markdown",
   "metadata": {},
   "source": [
    "## Building the scraping library"
   ]
  },
  {
   "cell_type": "markdown",
   "metadata": {},
   "source": [
    "- we'll call our library `reddit_scraper`\n",
    "- in this library we build logic for\n",
    "    - handling top subreddit links\n",
    "    - making requests to these links to collect their html\n",
    "    - parsing each html page to sieve out our two numbers of interest\n",
    "    - storing these two numbers in a `sqlite` database"
   ]
  },
  {
   "cell_type": "markdown",
   "metadata": {},
   "source": [
    "## Harvesting links"
   ]
  },
  {
   "cell_type": "markdown",
   "metadata": {},
   "source": [
    "- since reddit provides [the top 250 subreddits ranked by total member count](https://www.reddit.com/best/communities/1/) we can just copy and paste links to the top 50\n",
    "- each will contain the two metrics we're looking to record\n",
    "- we record these links in `reddit_scraper/links`\n",
    "- we can view these by using the jupyter magic command `??` as done below"
   ]
  },
  {
   "cell_type": "code",
   "execution_count": 6,
   "metadata": {},
   "outputs": [
    {
     "name": "stdout",
     "output_type": "stream",
     "text": [
      "\u001b[0;31mType:\u001b[0m        module\n",
      "\u001b[0;31mString form:\u001b[0m <module 'reddit_scraper.links' from '/Users/jeremywatt/Desktop/content_creation/reddit_scraper/reddit_scraper/links.py'>\n",
      "\u001b[0;31mFile:\u001b[0m        ~/Desktop/content_creation/reddit_scraper/reddit_scraper/links.py\n",
      "\u001b[0;31mSource:\u001b[0m     \n",
      "\u001b[0mlinks\u001b[0m \u001b[0;34m=\u001b[0m \u001b[0;34m[\u001b[0m\u001b[0;34m\u001b[0m\n",
      "\u001b[0;34m\u001b[0m    \u001b[0;34m\"https://www.reddit.com/r/funny/\"\u001b[0m\u001b[0;34m,\u001b[0m\u001b[0;34m\u001b[0m\n",
      "\u001b[0;34m\u001b[0m    \u001b[0;34m\"https://www.reddit.com/r/AskReddit/\"\u001b[0m\u001b[0;34m,\u001b[0m\u001b[0;34m\u001b[0m\n",
      "\u001b[0;34m\u001b[0m    \u001b[0;34m\"https://www.reddit.com/r/gaming/\"\u001b[0m\u001b[0;34m,\u001b[0m\u001b[0;34m\u001b[0m\n",
      "\u001b[0;34m\u001b[0m    \u001b[0;34m\"https://www.reddit.com/r/worldnews/\"\u001b[0m\u001b[0;34m,\u001b[0m\u001b[0;34m\u001b[0m\n",
      "\u001b[0;34m\u001b[0m    \u001b[0;34m\"https://www.reddit.com/r/todayilearned/\"\u001b[0m\u001b[0;34m,\u001b[0m\u001b[0;34m\u001b[0m\n",
      "\u001b[0;34m\u001b[0m    \u001b[0;34m\"https://www.reddit.com/r/aww/\"\u001b[0m\u001b[0;34m,\u001b[0m\u001b[0;34m\u001b[0m\n",
      "\u001b[0;34m\u001b[0m    \u001b[0;34m\"https://www.reddit.com/r/Music/\"\u001b[0m\u001b[0;34m,\u001b[0m\u001b[0;34m\u001b[0m\n",
      "\u001b[0;34m\u001b[0m    \u001b[0;34m\"https://www.reddit.com/r/movies/\"\u001b[0m\u001b[0;34m,\u001b[0m\u001b[0;34m\u001b[0m\n",
      "\u001b[0;34m\u001b[0m    \u001b[0;34m\"https://www.reddit.com/r/science/\"\u001b[0m\u001b[0;34m,\u001b[0m\u001b[0;34m\u001b[0m\n",
      "\u001b[0;34m\u001b[0m    \u001b[0;34m\"https://www.reddit.com/r/memes/\"\u001b[0m\u001b[0;34m,\u001b[0m\u001b[0;34m\u001b[0m\n",
      "\u001b[0;34m\u001b[0m    \u001b[0;34m\"https://www.reddit.com/r/Showerthoughts/\"\u001b[0m\u001b[0;34m,\u001b[0m\u001b[0;34m\u001b[0m\n",
      "\u001b[0;34m\u001b[0m    \u001b[0;34m\"https://www.reddit.com/r/pics/\"\u001b[0m\u001b[0;34m,\u001b[0m\u001b[0;34m\u001b[0m\n",
      "\u001b[0;34m\u001b[0m    \u001b[0;34m\"https://www.reddit.com/r/Jokes/\"\u001b[0m\u001b[0;34m,\u001b[0m\u001b[0;34m\u001b[0m\n",
      "\u001b[0;34m\u001b[0m    \u001b[0;34m\"https://www.reddit.com/r/news/\"\u001b[0m\u001b[0;34m,\u001b[0m\u001b[0;34m\u001b[0m\n",
      "\u001b[0;34m\u001b[0m    \u001b[0;34m\"https://www.reddit.com/r/videos/\"\u001b[0m\u001b[0;34m,\u001b[0m\u001b[0;34m\u001b[0m\n",
      "\u001b[0;34m\u001b[0m    \u001b[0;34m\"https://www.reddit.com/r/space/\"\u001b[0m\u001b[0;34m,\u001b[0m\u001b[0;34m\u001b[0m\n",
      "\u001b[0;34m\u001b[0m    \u001b[0;34m\"https://www.reddit.com/r/askscience/\"\u001b[0m\u001b[0;34m,\u001b[0m\u001b[0;34m\u001b[0m\n",
      "\u001b[0;34m\u001b[0m    \u001b[0;34m\"https://www.reddit.com/r/DIY\"\u001b[0m\u001b[0;34m,\u001b[0m\u001b[0;34m\u001b[0m\n",
      "\u001b[0;34m\u001b[0m    \u001b[0;34m\"https://www.reddit.com/r/books/\"\u001b[0m\u001b[0;34m,\u001b[0m\u001b[0;34m\u001b[0m\n",
      "\u001b[0;34m\u001b[0m    \u001b[0;34m\"https://www.reddit.com/r/nottheonion/\"\u001b[0m\u001b[0;34m,\u001b[0m\u001b[0;34m\u001b[0m\n",
      "\u001b[0;34m\u001b[0m    \u001b[0;34m\"https://www.reddit.com/r/EarthPorn/\"\u001b[0m\u001b[0;34m,\u001b[0m\u001b[0;34m\u001b[0m\n",
      "\u001b[0;34m\u001b[0m    \u001b[0;34m\"https://www.reddit.com/r/food/\"\u001b[0m\u001b[0;34m,\u001b[0m\u001b[0;34m\u001b[0m\n",
      "\u001b[0;34m\u001b[0m    \u001b[0;34m\"https://www.reddit.com/r/mildlyinteresting/\"\u001b[0m\u001b[0;34m,\u001b[0m\u001b[0;34m\u001b[0m\n",
      "\u001b[0;34m\u001b[0m    \u001b[0;34m\"https://www.reddit.com/r/explainlikeimfive/\"\u001b[0m\u001b[0;34m,\u001b[0m\u001b[0;34m\u001b[0m\n",
      "\u001b[0;34m\u001b[0m    \u001b[0;34m\"https://www.reddit.com/r/LifeProTips/\"\u001b[0m\u001b[0;34m,\u001b[0m\u001b[0;34m\u001b[0m\n",
      "\u001b[0;34m\u001b[0m    \u001b[0;34m\"https://www.reddit.com/r/IAmA/\"\u001b[0m\u001b[0;34m,\u001b[0m\u001b[0;34m\u001b[0m\n",
      "\u001b[0;34m\u001b[0m    \u001b[0;34m\"https://www.reddit.com/r/Art/\"\u001b[0m\u001b[0;34m,\u001b[0m\u001b[0;34m\u001b[0m\n",
      "\u001b[0;34m\u001b[0m    \u001b[0;34m\"https://www.reddit.com/r/gadgets/\"\u001b[0m\u001b[0;34m,\u001b[0m\u001b[0;34m\u001b[0m\n",
      "\u001b[0;34m\u001b[0m    \u001b[0;34m\"https://www.reddit.com/r/GetMotivated/\"\u001b[0m\u001b[0;34m,\u001b[0m\u001b[0;34m\u001b[0m\n",
      "\u001b[0;34m\u001b[0m    \u001b[0;34m\"https://www.reddit.com/r/gifs/\"\u001b[0m\u001b[0;34m,\u001b[0m\u001b[0;34m\u001b[0m\n",
      "\u001b[0;34m\u001b[0m    \u001b[0;34m\"https://www.reddit.com/r/sports/\"\u001b[0m\u001b[0;34m,\u001b[0m\u001b[0;34m\u001b[0m\n",
      "\u001b[0;34m\u001b[0m    \u001b[0;34m\"https://www.reddit.com/r/dataisbeautiful/\"\u001b[0m\u001b[0;34m,\u001b[0m\u001b[0;34m\u001b[0m\n",
      "\u001b[0;34m\u001b[0m    \u001b[0;34m\"https://www.reddit.com/r/Documentaries/\"\u001b[0m\u001b[0;34m,\u001b[0m\u001b[0;34m\u001b[0m\n",
      "\u001b[0;34m\u001b[0m    \u001b[0;34m\"https://www.reddit.com/r/Futurology/\"\u001b[0m\u001b[0;34m,\u001b[0m\u001b[0;34m\u001b[0m\n",
      "\u001b[0;34m\u001b[0m    \u001b[0;34m\"https://www.reddit.com/r/UpliftingNews/\"\u001b[0m\u001b[0;34m,\u001b[0m\u001b[0;34m\u001b[0m\n",
      "\u001b[0;34m\u001b[0m    \u001b[0;34m\"https://www.reddit.com/r/photoshopbattles/\"\u001b[0m\u001b[0;34m,\u001b[0m\u001b[0;34m\u001b[0m\n",
      "\u001b[0;34m\u001b[0m    \u001b[0;34m\"https://www.reddit.com/r/personalfinance/\"\u001b[0m\u001b[0;34m,\u001b[0m\u001b[0;34m\u001b[0m\n",
      "\u001b[0;34m\u001b[0m    \u001b[0;34m\"https://www.reddit.com/r/tifu/\"\u001b[0m\u001b[0;34m,\u001b[0m\u001b[0;34m\u001b[0m\n",
      "\u001b[0;34m\u001b[0m    \u001b[0;34m\"https://www.reddit.com/r/OldSchoolCool/\"\u001b[0m\u001b[0;34m,\u001b[0m\u001b[0;34m\u001b[0m\n",
      "\u001b[0;34m\u001b[0m    \u001b[0;34m\"https://www.reddit.com/r/history/\"\u001b[0m\u001b[0;34m,\u001b[0m\u001b[0;34m\u001b[0m\n",
      "\u001b[0;34m\u001b[0m    \u001b[0;34m\"https://www.reddit.com/r/listentothis/\"\u001b[0m\u001b[0;34m,\u001b[0m\u001b[0;34m\u001b[0m\n",
      "\u001b[0;34m\u001b[0m    \u001b[0;34m\"https://www.reddit.com/r/WritingPrompts/\"\u001b[0m\u001b[0;34m,\u001b[0m\u001b[0;34m\u001b[0m\n",
      "\u001b[0;34m\u001b[0m    \u001b[0;34m\"https://www.reddit.com/r/nosleep/\"\u001b[0m\u001b[0;34m,\u001b[0m\u001b[0;34m\u001b[0m\n",
      "\u001b[0;34m\u001b[0m    \u001b[0;34m\"https://www.reddit.com/r/philosophy/\"\u001b[0m\u001b[0;34m,\u001b[0m\u001b[0;34m\u001b[0m\n",
      "\u001b[0;34m\u001b[0m    \u001b[0;34m\"https://www.reddit.com/r/television/\"\u001b[0m\u001b[0;34m,\u001b[0m\u001b[0;34m\u001b[0m\n",
      "\u001b[0;34m\u001b[0m    \u001b[0;34m\"https://www.reddit.com/r/InternetIsBeautiful/\"\u001b[0m\u001b[0;34m,\u001b[0m\u001b[0;34m\u001b[0m\n",
      "\u001b[0;34m\u001b[0m    \u001b[0;34m\"https://www.reddit.com/r/technology/\"\u001b[0m\u001b[0;34m,\u001b[0m\u001b[0;34m\u001b[0m\n",
      "\u001b[0;34m\u001b[0m    \u001b[0;34m\"https://www.reddit.com/r/wholesomememes/\"\u001b[0m\u001b[0;34m,\u001b[0m\u001b[0;34m\u001b[0m\n",
      "\u001b[0;34m\u001b[0m    \u001b[0;34m\"https://www.reddit.com/r/wallstreetbets/\"\u001b[0m\u001b[0;34m,\u001b[0m\u001b[0;34m\u001b[0m\n",
      "\u001b[0;34m\u001b[0m    \u001b[0;34m\"https://www.reddit.com/r/Damnthatsinteresting/\"\u001b[0m\u001b[0;34m,\u001b[0m\u001b[0;34m\u001b[0m\n",
      "\u001b[0;34m\u001b[0m\u001b[0;34m]\u001b[0m\u001b[0;34m\u001b[0m\u001b[0;34m\u001b[0m\u001b[0m"
     ]
    }
   ],
   "source": [
    "from reddit_scraper.links import links??"
   ]
  },
  {
   "cell_type": "markdown",
   "metadata": {},
   "source": [
    "## Creating a sqlite database to store data"
   ]
  },
  {
   "cell_type": "markdown",
   "metadata": {},
   "source": [
    "- sqlite is the most popular database on the planet\n",
    "- the database is just a simple file\n",
    "- out of the box python comes with apis to create, insert, delete, and query data with sqlite\n",
    "- lets look at how to create a sqlite database using basic python commands\n",
    "- here we instantiate the database with four columns\n",
    "    - reddit_url: the url of the subreddit we scrape\n",
    "    - timestamp: of when we scrape\n",
    "    - total_member_count: total count of members listed on the page\n",
    "    - total_online_count: total count of members online listed on the page"
   ]
  },
  {
   "cell_type": "code",
   "execution_count": 17,
   "metadata": {},
   "outputs": [
    {
     "name": "stdout",
     "output_type": "stream",
     "text": [
      "\u001b[0;31mSignature:\u001b[0m \u001b[0mcreate_sqlite_db\u001b[0m\u001b[0;34m(\u001b[0m\u001b[0mdb_filepath\u001b[0m\u001b[0;34m:\u001b[0m \u001b[0mstr\u001b[0m \u001b[0;34m=\u001b[0m \u001b[0;34m'reddit_scraper.db'\u001b[0m\u001b[0;34m)\u001b[0m \u001b[0;34m->\u001b[0m \u001b[0;32mNone\u001b[0m\u001b[0;34m\u001b[0m\u001b[0;34m\u001b[0m\u001b[0m\n",
      "\u001b[0;31mDocstring:\u001b[0m <no docstring>\n",
      "\u001b[0;31mSource:\u001b[0m   \n",
      "\u001b[0;32mdef\u001b[0m \u001b[0mcreate_sqlite_db\u001b[0m\u001b[0;34m(\u001b[0m\u001b[0mdb_filepath\u001b[0m\u001b[0;34m:\u001b[0m \u001b[0mstr\u001b[0m \u001b[0;34m=\u001b[0m \u001b[0;34m\"reddit_scraper.db\"\u001b[0m\u001b[0;34m)\u001b[0m \u001b[0;34m->\u001b[0m \u001b[0;32mNone\u001b[0m\u001b[0;34m:\u001b[0m\u001b[0;34m\u001b[0m\n",
      "\u001b[0;34m\u001b[0m    \u001b[0;32mtry\u001b[0m\u001b[0;34m:\u001b[0m\u001b[0;34m\u001b[0m\n",
      "\u001b[0;34m\u001b[0m        \u001b[0;31m# Connect and create cursor\u001b[0m\u001b[0;34m\u001b[0m\n",
      "\u001b[0;34m\u001b[0m        \u001b[0mconn\u001b[0m \u001b[0;34m=\u001b[0m \u001b[0msqlite3\u001b[0m\u001b[0;34m.\u001b[0m\u001b[0mconnect\u001b[0m\u001b[0;34m(\u001b[0m\u001b[0mdb_filepath\u001b[0m\u001b[0;34m)\u001b[0m\u001b[0;34m\u001b[0m\n",
      "\u001b[0;34m\u001b[0m        \u001b[0mcursor\u001b[0m \u001b[0;34m=\u001b[0m \u001b[0mconn\u001b[0m\u001b[0;34m.\u001b[0m\u001b[0mcursor\u001b[0m\u001b[0;34m(\u001b[0m\u001b[0;34m)\u001b[0m\u001b[0;34m\u001b[0m\n",
      "\u001b[0;34m\u001b[0m\u001b[0;34m\u001b[0m\n",
      "\u001b[0;34m\u001b[0m        \u001b[0;31m# Create the table  - delete old table if it exists\u001b[0m\u001b[0;34m\u001b[0m\n",
      "\u001b[0;34m\u001b[0m        \u001b[0mcursor\u001b[0m\u001b[0;34m.\u001b[0m\u001b[0mexecute\u001b[0m\u001b[0;34m(\u001b[0m\u001b[0;34m\"DROP TABLE IF EXISTS reddit_scraper\"\u001b[0m\u001b[0;34m)\u001b[0m\u001b[0;34m\u001b[0m\n",
      "\u001b[0;34m\u001b[0m\u001b[0;34m\u001b[0m\n",
      "\u001b[0;34m\u001b[0m        \u001b[0;31m# Create the table\u001b[0m\u001b[0;34m\u001b[0m\n",
      "\u001b[0;34m\u001b[0m        \u001b[0mquery\u001b[0m \u001b[0;34m=\u001b[0m \u001b[0;34m\"\"\"\u001b[0m\n",
      "\u001b[0;34m            CREATE TABLE IF NOT EXISTS reddit_scraper (\u001b[0m\n",
      "\u001b[0;34m                reddit_url TEXT,\u001b[0m\n",
      "\u001b[0;34m                timestamp INTEGER,\u001b[0m\n",
      "\u001b[0;34m                total_member_count INTEGER,\u001b[0m\n",
      "\u001b[0;34m                total_online_count INTEGER\u001b[0m\n",
      "\u001b[0;34m            );\u001b[0m\n",
      "\u001b[0;34m        \"\"\"\u001b[0m\u001b[0;34m\u001b[0m\n",
      "\u001b[0;34m\u001b[0m        \u001b[0mcursor\u001b[0m\u001b[0;34m.\u001b[0m\u001b[0mexecute\u001b[0m\u001b[0;34m(\u001b[0m\u001b[0mquery\u001b[0m\u001b[0;34m)\u001b[0m\u001b[0;34m\u001b[0m\n",
      "\u001b[0;34m\u001b[0m\u001b[0;34m\u001b[0m\n",
      "\u001b[0;34m\u001b[0m        \u001b[0;31m# Create index on reddit_url for faster retrieval\u001b[0m\u001b[0;34m\u001b[0m\n",
      "\u001b[0;34m\u001b[0m        \u001b[0mquery\u001b[0m \u001b[0;34m=\u001b[0m \u001b[0;34m\"CREATE INDEX index_reddit_url ON reddit_scraper (reddit_url);\"\u001b[0m\u001b[0;34m\u001b[0m\n",
      "\u001b[0;34m\u001b[0m        \u001b[0mquery\u001b[0m \u001b[0;34m=\u001b[0m \u001b[0;34m\"CREATE INDEX index_reddit_timestamp ON reddit_scraper (timestamp);\"\u001b[0m\u001b[0;34m\u001b[0m\n",
      "\u001b[0;34m\u001b[0m        \u001b[0mcursor\u001b[0m\u001b[0;34m.\u001b[0m\u001b[0mexecute\u001b[0m\u001b[0;34m(\u001b[0m\u001b[0mquery\u001b[0m\u001b[0;34m)\u001b[0m\u001b[0;34m\u001b[0m\n",
      "\u001b[0;34m\u001b[0m\u001b[0;34m\u001b[0m\n",
      "\u001b[0;34m\u001b[0m        \u001b[0mconn\u001b[0m\u001b[0;34m.\u001b[0m\u001b[0mcommit\u001b[0m\u001b[0;34m(\u001b[0m\u001b[0;34m)\u001b[0m\u001b[0;34m\u001b[0m\n",
      "\u001b[0;34m\u001b[0m        \u001b[0mconn\u001b[0m\u001b[0;34m.\u001b[0m\u001b[0mclose\u001b[0m\u001b[0;34m(\u001b[0m\u001b[0;34m)\u001b[0m\u001b[0;34m\u001b[0m\n",
      "\u001b[0;34m\u001b[0m        \u001b[0mprint\u001b[0m\u001b[0;34m(\u001b[0m\u001b[0;34m\"SUCCESS: create_sqlite_db ran successfully\"\u001b[0m\u001b[0;34m)\u001b[0m\u001b[0;34m\u001b[0m\n",
      "\u001b[0;34m\u001b[0m    \u001b[0;32mexcept\u001b[0m \u001b[0mException\u001b[0m \u001b[0;32mas\u001b[0m \u001b[0me\u001b[0m\u001b[0;34m:\u001b[0m\u001b[0;34m\u001b[0m\n",
      "\u001b[0;34m\u001b[0m        \u001b[0mprint\u001b[0m\u001b[0;34m(\u001b[0m\u001b[0;34mf\"FAILURE: create_sqlite_db failed with exception {e}\"\u001b[0m\u001b[0;34m)\u001b[0m\u001b[0;34m\u001b[0m\u001b[0;34m\u001b[0m\u001b[0m\n",
      "\u001b[0;31mFile:\u001b[0m      ~/Desktop/content_creation/reddit_scraper/reddit_scraper/sqlite_interactions.py\n",
      "\u001b[0;31mType:\u001b[0m      function"
     ]
    }
   ],
   "source": [
    "from reddit_scraper.sqlite_interactions import create_sqlite_db??"
   ]
  },
  {
   "cell_type": "markdown",
   "metadata": {},
   "source": [
    "## Making requests\n",
    "\n",
    "- because we want to scrape 50 subreddits we don't want to make requests in sequence, as we will need to wait for one request to end to start tne next\n",
    "- we want to make the requests async to avoid having to wait\n",
    "- to do this we use [grequests](https://github.com/spyoungtech/grequests)\n",
    "- the api for doing this looks very similar to the common [requests](https://github.com/psf/requests) api\n",
    "- be careful not to run this too many times, too fast, to avoid bans"
   ]
  },
  {
   "cell_type": "code",
   "execution_count": 21,
   "metadata": {},
   "outputs": [
    {
     "name": "stdout",
     "output_type": "stream",
     "text": [
      "\u001b[0;31mSignature:\u001b[0m \u001b[0mmake_requests\u001b[0m\u001b[0;34m(\u001b[0m\u001b[0mlinks\u001b[0m\u001b[0;34m:\u001b[0m \u001b[0mlist\u001b[0m\u001b[0;34m)\u001b[0m \u001b[0;34m->\u001b[0m \u001b[0mlist\u001b[0m\u001b[0;34m\u001b[0m\u001b[0;34m\u001b[0m\u001b[0m\n",
      "\u001b[0;31mDocstring:\u001b[0m <no docstring>\n",
      "\u001b[0;31mSource:\u001b[0m   \n",
      "\u001b[0;32mdef\u001b[0m \u001b[0mmake_requests\u001b[0m\u001b[0;34m(\u001b[0m\u001b[0mlinks\u001b[0m\u001b[0;34m:\u001b[0m \u001b[0mlist\u001b[0m\u001b[0;34m)\u001b[0m \u001b[0;34m->\u001b[0m \u001b[0mlist\u001b[0m\u001b[0;34m:\u001b[0m\u001b[0;34m\u001b[0m\n",
      "\u001b[0;34m\u001b[0m    \u001b[0;32mtry\u001b[0m\u001b[0;34m:\u001b[0m\u001b[0;34m\u001b[0m\n",
      "\u001b[0;34m\u001b[0m        \u001b[0;31m# \"User-Agent\": \"Mozilla/5.0 (Macintosh; Intel Mac OS X 10_10_1) AppleWebKit/537.36 (KHTML, like Gecko) Chrome/39.0.2171.95 Safari/537.36\"\u001b[0m\u001b[0;34m\u001b[0m\n",
      "\u001b[0;34m\u001b[0m        \u001b[0mheaders\u001b[0m \u001b[0;34m=\u001b[0m \u001b[0;34m{\u001b[0m\u001b[0;34m\u001b[0m\n",
      "\u001b[0;34m\u001b[0m            \u001b[0;34m\"User-Agent\"\u001b[0m\u001b[0;34m:\u001b[0m \u001b[0;34m\"Mozilla/5.0 (Windows NT 10.0; Win64; x64) AppleWebKit/537.36 (KHTML, like Gecko) Chrome/74.0.3729.169 Safari/537.36\"\u001b[0m\u001b[0;34m\u001b[0m\n",
      "\u001b[0;34m\u001b[0m        \u001b[0;34m}\u001b[0m\u001b[0;34m\u001b[0m\n",
      "\u001b[0;34m\u001b[0m        \u001b[0mrs\u001b[0m \u001b[0;34m=\u001b[0m \u001b[0;34m(\u001b[0m\u001b[0mgrequests\u001b[0m\u001b[0;34m.\u001b[0m\u001b[0mget\u001b[0m\u001b[0;34m(\u001b[0m\u001b[0mu\u001b[0m\u001b[0;34m,\u001b[0m \u001b[0mheaders\u001b[0m\u001b[0;34m=\u001b[0m\u001b[0mheaders\u001b[0m\u001b[0;34m)\u001b[0m \u001b[0;32mfor\u001b[0m \u001b[0mu\u001b[0m \u001b[0;32min\u001b[0m \u001b[0mlinks\u001b[0m\u001b[0;34m)\u001b[0m\u001b[0;34m\u001b[0m\n",
      "\u001b[0;34m\u001b[0m\u001b[0;34m\u001b[0m\n",
      "\u001b[0;34m\u001b[0m        \u001b[0;32mdef\u001b[0m \u001b[0mexception_handler\u001b[0m\u001b[0;34m(\u001b[0m\u001b[0mrequest\u001b[0m\u001b[0;34m,\u001b[0m \u001b[0mexception\u001b[0m\u001b[0;34m)\u001b[0m\u001b[0;34m:\u001b[0m\u001b[0;34m\u001b[0m\n",
      "\u001b[0;34m\u001b[0m            \u001b[0mprint\u001b[0m\u001b[0;34m(\u001b[0m\u001b[0mexception\u001b[0m\u001b[0;34m)\u001b[0m\u001b[0;34m\u001b[0m\n",
      "\u001b[0;34m\u001b[0m\u001b[0;34m\u001b[0m\n",
      "\u001b[0;34m\u001b[0m        \u001b[0mresponses\u001b[0m \u001b[0;34m=\u001b[0m \u001b[0mgrequests\u001b[0m\u001b[0;34m.\u001b[0m\u001b[0mmap\u001b[0m\u001b[0;34m(\u001b[0m\u001b[0mrs\u001b[0m\u001b[0;34m,\u001b[0m \u001b[0mexception_handler\u001b[0m\u001b[0;34m=\u001b[0m\u001b[0mexception_handler\u001b[0m\u001b[0;34m)\u001b[0m\u001b[0;34m\u001b[0m\n",
      "\u001b[0;34m\u001b[0m        \u001b[0;32mfor\u001b[0m \u001b[0mind\u001b[0m\u001b[0;34m,\u001b[0m \u001b[0mresp\u001b[0m \u001b[0;32min\u001b[0m \u001b[0menumerate\u001b[0m\u001b[0;34m(\u001b[0m\u001b[0mresponses\u001b[0m\u001b[0;34m)\u001b[0m\u001b[0;34m:\u001b[0m\u001b[0;34m\u001b[0m\n",
      "\u001b[0;34m\u001b[0m            \u001b[0;32mif\u001b[0m \u001b[0mresp\u001b[0m\u001b[0;34m.\u001b[0m\u001b[0mstatus_code\u001b[0m \u001b[0;34m!=\u001b[0m \u001b[0;36m200\u001b[0m\u001b[0;34m:\u001b[0m\u001b[0;34m\u001b[0m\n",
      "\u001b[0;34m\u001b[0m                \u001b[0mprint\u001b[0m\u001b[0;34m(\u001b[0m\u001b[0;34m\u001b[0m\n",
      "\u001b[0;34m\u001b[0m                    \u001b[0;34mf\"FAILURE: link {links[ind]} responded with status_code {resp.status_code}\"\u001b[0m\u001b[0;34m\u001b[0m\n",
      "\u001b[0;34m\u001b[0m                \u001b[0;34m)\u001b[0m\u001b[0;34m\u001b[0m\n",
      "\u001b[0;34m\u001b[0m            \u001b[0;32melse\u001b[0m\u001b[0;34m:\u001b[0m\u001b[0;34m\u001b[0m\n",
      "\u001b[0;34m\u001b[0m                \u001b[0mprint\u001b[0m\u001b[0;34m(\u001b[0m\u001b[0;34m\u001b[0m\n",
      "\u001b[0;34m\u001b[0m                    \u001b[0;34mf\"SUCCESS: link {links[ind]} responded with status_code {resp.status_code}\"\u001b[0m\u001b[0;34m\u001b[0m\n",
      "\u001b[0;34m\u001b[0m                \u001b[0;34m)\u001b[0m\u001b[0;34m\u001b[0m\n",
      "\u001b[0;34m\u001b[0m\u001b[0;34m\u001b[0m\n",
      "\u001b[0;34m\u001b[0m        \u001b[0mprint\u001b[0m\u001b[0;34m(\u001b[0m\u001b[0;34m\"SUCCESS: make_requests finished successfully\"\u001b[0m\u001b[0;34m)\u001b[0m\u001b[0;34m\u001b[0m\n",
      "\u001b[0;34m\u001b[0m        \u001b[0;32mreturn\u001b[0m \u001b[0mresponses\u001b[0m\u001b[0;34m\u001b[0m\n",
      "\u001b[0;34m\u001b[0m    \u001b[0;32mexcept\u001b[0m \u001b[0mException\u001b[0m \u001b[0;32mas\u001b[0m \u001b[0me\u001b[0m\u001b[0;34m:\u001b[0m\u001b[0;34m\u001b[0m\n",
      "\u001b[0;34m\u001b[0m        \u001b[0mprint\u001b[0m\u001b[0;34m(\u001b[0m\u001b[0;34mf\"FAILURE: make_requests failed with exception {e}\"\u001b[0m\u001b[0;34m)\u001b[0m\u001b[0;34m\u001b[0m\n",
      "\u001b[0;34m\u001b[0m        \u001b[0;32mreturn\u001b[0m \u001b[0;32mNone\u001b[0m\u001b[0;34m\u001b[0m\u001b[0;34m\u001b[0m\u001b[0m\n",
      "\u001b[0;31mFile:\u001b[0m      ~/Desktop/content_creation/reddit_scraper/reddit_scraper/make_requests.py\n",
      "\u001b[0;31mType:\u001b[0m      function"
     ]
    }
   ],
   "source": [
    "from reddit_scraper.make_requests import make_requests??"
   ]
  },
  {
   "cell_type": "code",
   "execution_count": null,
   "metadata": {},
   "outputs": [],
   "source": [
    "## Making"
   ]
  },
  {
   "cell_type": "code",
   "execution_count": null,
   "metadata": {},
   "outputs": [],
   "source": []
  },
  {
   "cell_type": "code",
   "execution_count": 5,
   "metadata": {},
   "outputs": [
    {
     "name": "stdout",
     "output_type": "stream",
     "text": [
      "\u001b[0;31mType:\u001b[0m        module\n",
      "\u001b[0;31mString form:\u001b[0m <module 'reddit_scraper.links' from '/Users/jeremywatt/Desktop/content_creation/reddit_scraper/reddit_scraper/links.py'>\n",
      "\u001b[0;31mFile:\u001b[0m        ~/Desktop/content_creation/reddit_scraper/reddit_scraper/links.py\n",
      "\u001b[0;31mSource:\u001b[0m     \n",
      "\u001b[0mlinks\u001b[0m \u001b[0;34m=\u001b[0m \u001b[0;34m[\u001b[0m\u001b[0;34m\u001b[0m\n",
      "\u001b[0;34m\u001b[0m    \u001b[0;34m\"https://www.reddit.com/r/funny/\"\u001b[0m\u001b[0;34m,\u001b[0m\u001b[0;34m\u001b[0m\n",
      "\u001b[0;34m\u001b[0m    \u001b[0;34m\"https://www.reddit.com/r/AskReddit/\"\u001b[0m\u001b[0;34m,\u001b[0m\u001b[0;34m\u001b[0m\n",
      "\u001b[0;34m\u001b[0m    \u001b[0;34m\"https://www.reddit.com/r/gaming/\"\u001b[0m\u001b[0;34m,\u001b[0m\u001b[0;34m\u001b[0m\n",
      "\u001b[0;34m\u001b[0m    \u001b[0;34m\"https://www.reddit.com/r/worldnews/\"\u001b[0m\u001b[0;34m,\u001b[0m\u001b[0;34m\u001b[0m\n",
      "\u001b[0;34m\u001b[0m    \u001b[0;34m\"https://www.reddit.com/r/todayilearned/\"\u001b[0m\u001b[0;34m,\u001b[0m\u001b[0;34m\u001b[0m\n",
      "\u001b[0;34m\u001b[0m    \u001b[0;34m\"https://www.reddit.com/r/aww/\"\u001b[0m\u001b[0;34m,\u001b[0m\u001b[0;34m\u001b[0m\n",
      "\u001b[0;34m\u001b[0m    \u001b[0;34m\"https://www.reddit.com/r/Music/\"\u001b[0m\u001b[0;34m,\u001b[0m\u001b[0;34m\u001b[0m\n",
      "\u001b[0;34m\u001b[0m    \u001b[0;34m\"https://www.reddit.com/r/movies/\"\u001b[0m\u001b[0;34m,\u001b[0m\u001b[0;34m\u001b[0m\n",
      "\u001b[0;34m\u001b[0m    \u001b[0;34m\"https://www.reddit.com/r/science/\"\u001b[0m\u001b[0;34m,\u001b[0m\u001b[0;34m\u001b[0m\n",
      "\u001b[0;34m\u001b[0m    \u001b[0;34m\"https://www.reddit.com/r/memes/\"\u001b[0m\u001b[0;34m,\u001b[0m\u001b[0;34m\u001b[0m\n",
      "\u001b[0;34m\u001b[0m    \u001b[0;34m\"https://www.reddit.com/r/Showerthoughts/\"\u001b[0m\u001b[0;34m,\u001b[0m\u001b[0;34m\u001b[0m\n",
      "\u001b[0;34m\u001b[0m    \u001b[0;34m\"https://www.reddit.com/r/pics/\"\u001b[0m\u001b[0;34m,\u001b[0m\u001b[0;34m\u001b[0m\n",
      "\u001b[0;34m\u001b[0m    \u001b[0;34m\"https://www.reddit.com/r/Jokes/\"\u001b[0m\u001b[0;34m,\u001b[0m\u001b[0;34m\u001b[0m\n",
      "\u001b[0;34m\u001b[0m    \u001b[0;34m\"https://www.reddit.com/r/news/\"\u001b[0m\u001b[0;34m,\u001b[0m\u001b[0;34m\u001b[0m\n",
      "\u001b[0;34m\u001b[0m    \u001b[0;34m\"https://www.reddit.com/r/videos/\"\u001b[0m\u001b[0;34m,\u001b[0m\u001b[0;34m\u001b[0m\n",
      "\u001b[0;34m\u001b[0m    \u001b[0;34m\"https://www.reddit.com/r/space/\"\u001b[0m\u001b[0;34m,\u001b[0m\u001b[0;34m\u001b[0m\n",
      "\u001b[0;34m\u001b[0m    \u001b[0;34m\"https://www.reddit.com/r/askscience/\"\u001b[0m\u001b[0;34m,\u001b[0m\u001b[0;34m\u001b[0m\n",
      "\u001b[0;34m\u001b[0m    \u001b[0;34m\"https://www.reddit.com/r/DIY\"\u001b[0m\u001b[0;34m,\u001b[0m\u001b[0;34m\u001b[0m\n",
      "\u001b[0;34m\u001b[0m    \u001b[0;34m\"https://www.reddit.com/r/books/\"\u001b[0m\u001b[0;34m,\u001b[0m\u001b[0;34m\u001b[0m\n",
      "\u001b[0;34m\u001b[0m    \u001b[0;34m\"https://www.reddit.com/r/nottheonion/\"\u001b[0m\u001b[0;34m,\u001b[0m\u001b[0;34m\u001b[0m\n",
      "\u001b[0;34m\u001b[0m    \u001b[0;34m\"https://www.reddit.com/r/EarthPorn/\"\u001b[0m\u001b[0;34m,\u001b[0m\u001b[0;34m\u001b[0m\n",
      "\u001b[0;34m\u001b[0m    \u001b[0;34m\"https://www.reddit.com/r/food/\"\u001b[0m\u001b[0;34m,\u001b[0m\u001b[0;34m\u001b[0m\n",
      "\u001b[0;34m\u001b[0m    \u001b[0;34m\"https://www.reddit.com/r/mildlyinteresting/\"\u001b[0m\u001b[0;34m,\u001b[0m\u001b[0;34m\u001b[0m\n",
      "\u001b[0;34m\u001b[0m    \u001b[0;34m\"https://www.reddit.com/r/explainlikeimfive/\"\u001b[0m\u001b[0;34m,\u001b[0m\u001b[0;34m\u001b[0m\n",
      "\u001b[0;34m\u001b[0m    \u001b[0;34m\"https://www.reddit.com/r/LifeProTips/\"\u001b[0m\u001b[0;34m,\u001b[0m\u001b[0;34m\u001b[0m\n",
      "\u001b[0;34m\u001b[0m    \u001b[0;34m\"https://www.reddit.com/r/IAmA/\"\u001b[0m\u001b[0;34m,\u001b[0m\u001b[0;34m\u001b[0m\n",
      "\u001b[0;34m\u001b[0m    \u001b[0;34m\"https://www.reddit.com/r/Art/\"\u001b[0m\u001b[0;34m,\u001b[0m\u001b[0;34m\u001b[0m\n",
      "\u001b[0;34m\u001b[0m    \u001b[0;34m\"https://www.reddit.com/r/gadgets/\"\u001b[0m\u001b[0;34m,\u001b[0m\u001b[0;34m\u001b[0m\n",
      "\u001b[0;34m\u001b[0m    \u001b[0;34m\"https://www.reddit.com/r/GetMotivated/\"\u001b[0m\u001b[0;34m,\u001b[0m\u001b[0;34m\u001b[0m\n",
      "\u001b[0;34m\u001b[0m    \u001b[0;34m\"https://www.reddit.com/r/gifs/\"\u001b[0m\u001b[0;34m,\u001b[0m\u001b[0;34m\u001b[0m\n",
      "\u001b[0;34m\u001b[0m    \u001b[0;34m\"https://www.reddit.com/r/sports/\"\u001b[0m\u001b[0;34m,\u001b[0m\u001b[0;34m\u001b[0m\n",
      "\u001b[0;34m\u001b[0m    \u001b[0;34m\"https://www.reddit.com/r/dataisbeautiful/\"\u001b[0m\u001b[0;34m,\u001b[0m\u001b[0;34m\u001b[0m\n",
      "\u001b[0;34m\u001b[0m    \u001b[0;34m\"https://www.reddit.com/r/Documentaries/\"\u001b[0m\u001b[0;34m,\u001b[0m\u001b[0;34m\u001b[0m\n",
      "\u001b[0;34m\u001b[0m    \u001b[0;34m\"https://www.reddit.com/r/Futurology/\"\u001b[0m\u001b[0;34m,\u001b[0m\u001b[0;34m\u001b[0m\n",
      "\u001b[0;34m\u001b[0m    \u001b[0;34m\"https://www.reddit.com/r/UpliftingNews/\"\u001b[0m\u001b[0;34m,\u001b[0m\u001b[0;34m\u001b[0m\n",
      "\u001b[0;34m\u001b[0m    \u001b[0;34m\"https://www.reddit.com/r/photoshopbattles/\"\u001b[0m\u001b[0;34m,\u001b[0m\u001b[0;34m\u001b[0m\n",
      "\u001b[0;34m\u001b[0m    \u001b[0;34m\"https://www.reddit.com/r/personalfinance/\"\u001b[0m\u001b[0;34m,\u001b[0m\u001b[0;34m\u001b[0m\n",
      "\u001b[0;34m\u001b[0m    \u001b[0;34m\"https://www.reddit.com/r/tifu/\"\u001b[0m\u001b[0;34m,\u001b[0m\u001b[0;34m\u001b[0m\n",
      "\u001b[0;34m\u001b[0m    \u001b[0;34m\"https://www.reddit.com/r/OldSchoolCool/\"\u001b[0m\u001b[0;34m,\u001b[0m\u001b[0;34m\u001b[0m\n",
      "\u001b[0;34m\u001b[0m    \u001b[0;34m\"https://www.reddit.com/r/history/\"\u001b[0m\u001b[0;34m,\u001b[0m\u001b[0;34m\u001b[0m\n",
      "\u001b[0;34m\u001b[0m    \u001b[0;34m\"https://www.reddit.com/r/listentothis/\"\u001b[0m\u001b[0;34m,\u001b[0m\u001b[0;34m\u001b[0m\n",
      "\u001b[0;34m\u001b[0m    \u001b[0;34m\"https://www.reddit.com/r/WritingPrompts/\"\u001b[0m\u001b[0;34m,\u001b[0m\u001b[0;34m\u001b[0m\n",
      "\u001b[0;34m\u001b[0m    \u001b[0;34m\"https://www.reddit.com/r/nosleep/\"\u001b[0m\u001b[0;34m,\u001b[0m\u001b[0;34m\u001b[0m\n",
      "\u001b[0;34m\u001b[0m    \u001b[0;34m\"https://www.reddit.com/r/philosophy/\"\u001b[0m\u001b[0;34m,\u001b[0m\u001b[0;34m\u001b[0m\n",
      "\u001b[0;34m\u001b[0m    \u001b[0;34m\"https://www.reddit.com/r/television/\"\u001b[0m\u001b[0;34m,\u001b[0m\u001b[0;34m\u001b[0m\n",
      "\u001b[0;34m\u001b[0m    \u001b[0;34m\"https://www.reddit.com/r/InternetIsBeautiful/\"\u001b[0m\u001b[0;34m,\u001b[0m\u001b[0;34m\u001b[0m\n",
      "\u001b[0;34m\u001b[0m    \u001b[0;34m\"https://www.reddit.com/r/technology/\"\u001b[0m\u001b[0;34m,\u001b[0m\u001b[0;34m\u001b[0m\n",
      "\u001b[0;34m\u001b[0m    \u001b[0;34m\"https://www.reddit.com/r/wholesomememes/\"\u001b[0m\u001b[0;34m,\u001b[0m\u001b[0;34m\u001b[0m\n",
      "\u001b[0;34m\u001b[0m    \u001b[0;34m\"https://www.reddit.com/r/wallstreetbets/\"\u001b[0m\u001b[0;34m,\u001b[0m\u001b[0;34m\u001b[0m\n",
      "\u001b[0;34m\u001b[0m    \u001b[0;34m\"https://www.reddit.com/r/Damnthatsinteresting/\"\u001b[0m\u001b[0;34m,\u001b[0m\u001b[0;34m\u001b[0m\n",
      "\u001b[0;34m\u001b[0m\u001b[0;34m]\u001b[0m\u001b[0;34m\u001b[0m\u001b[0;34m\u001b[0m\u001b[0m"
     ]
    }
   ],
   "source": []
  },
  {
   "cell_type": "markdown",
   "metadata": {},
   "source": []
  },
  {
   "cell_type": "code",
   "execution_count": 5,
   "metadata": {},
   "outputs": [],
   "source": [
    "import sqlite3\n",
    "def read_all_rows(db_filepath: str=\"reddit_scraper.db\") -> list:\n",
    "    # Read rows based on input reddit urls\n",
    "    conn = sqlite3.connect(db_filepath)\n",
    "    cursor = conn.cursor()\n",
    "    \n",
    "    # Execute query\n",
    "    query = \"SELECT * FROM reddit_scraper\"\n",
    "    cursor.execute(query)\n",
    "    rows = cursor.fetchall()\n",
    "    return rows"
   ]
  },
  {
   "cell_type": "code",
   "execution_count": 8,
   "metadata": {},
   "outputs": [],
   "source": [
    "from datetime import datetime\n",
    "import pandas as pd\n",
    "data = [{'reddit_url': 'https://www.reddit.com/r/funny/', 'timestamp': '2024-06-08 11:56:08', 'total_member_count': 60228597, 'total_online_count': 1865}]"
   ]
  },
  {
   "cell_type": "code",
   "execution_count": 12,
   "metadata": {},
   "outputs": [],
   "source": [
    "a = pd.DataFrame(data, index=None)"
   ]
  },
  {
   "cell_type": "code",
   "execution_count": 13,
   "metadata": {},
   "outputs": [
    {
     "data": {
      "text/html": [
       "<div>\n",
       "<style scoped>\n",
       "    .dataframe tbody tr th:only-of-type {\n",
       "        vertical-align: middle;\n",
       "    }\n",
       "\n",
       "    .dataframe tbody tr th {\n",
       "        vertical-align: top;\n",
       "    }\n",
       "\n",
       "    .dataframe thead th {\n",
       "        text-align: right;\n",
       "    }\n",
       "</style>\n",
       "<table border=\"1\" class=\"dataframe\">\n",
       "  <thead>\n",
       "    <tr style=\"text-align: right;\">\n",
       "      <th></th>\n",
       "      <th>reddit_url</th>\n",
       "      <th>timestamp</th>\n",
       "      <th>total_member_count</th>\n",
       "      <th>total_online_count</th>\n",
       "    </tr>\n",
       "  </thead>\n",
       "  <tbody>\n",
       "    <tr>\n",
       "      <th>0</th>\n",
       "      <td>https://www.reddit.com/r/funny/</td>\n",
       "      <td>2024-06-08 11:56:08</td>\n",
       "      <td>60228597</td>\n",
       "      <td>1865</td>\n",
       "    </tr>\n",
       "  </tbody>\n",
       "</table>\n",
       "</div>"
      ],
      "text/plain": [
       "                        reddit_url            timestamp  total_member_count  \\\n",
       "0  https://www.reddit.com/r/funny/  2024-06-08 11:56:08            60228597   \n",
       "\n",
       "   total_online_count  \n",
       "0                1865  "
      ]
     },
     "execution_count": 13,
     "metadata": {},
     "output_type": "execute_result"
    }
   ],
   "source": [
    "a"
   ]
  },
  {
   "cell_type": "code",
   "execution_count": 1,
   "metadata": {},
   "outputs": [],
   "source": [
    "from reddit_scraper.sqlite_interactions import read_rows"
   ]
  },
  {
   "cell_type": "code",
   "execution_count": 2,
   "metadata": {},
   "outputs": [
    {
     "data": {
      "text/plain": [
       "[('https://www.reddit.com/r/funny/', 1717855121, 60220366, 2211)]"
      ]
     },
     "execution_count": 2,
     "metadata": {},
     "output_type": "execute_result"
    }
   ],
   "source": [
    "read_rows([\"https://www.reddit.com/r/funny/\"])"
   ]
  },
  {
   "cell_type": "code",
   "execution_count": 3,
   "metadata": {},
   "outputs": [
    {
     "data": {
      "text/plain": [
       "[{'link': 'https://www.reddit.com/r/funny/',\n",
       "  'timestamp': 1717729316,\n",
       "  'total_member_count': 60176159,\n",
       "  'total_online_count': 2347},\n",
       " {'link': 'https://www.reddit.com/r/AskReddit/',\n",
       "  'timestamp': 1717729316,\n",
       "  'total_member_count': 46678307,\n",
       "  'total_online_count': 9203},\n",
       " {'link': 'https://www.reddit.com/r/gaming/',\n",
       "  'timestamp': 1717729316,\n",
       "  'total_member_count': 41435219,\n",
       "  'total_online_count': 1587},\n",
       " {'link': 'https://www.reddit.com/r/worldnews/',\n",
       "  'timestamp': 1717729316,\n",
       "  'total_member_count': 37200130,\n",
       "  'total_online_count': 13243},\n",
       " {'link': 'https://www.reddit.com/r/todayilearned/',\n",
       "  'timestamp': 1717729316,\n",
       "  'total_member_count': 36307888,\n",
       "  'total_online_count': 3288},\n",
       " {'link': 'https://www.reddit.com/r/aww/',\n",
       "  'timestamp': 1717729316,\n",
       "  'total_member_count': 36090851,\n",
       "  'total_online_count': 1646},\n",
       " {'link': 'https://www.reddit.com/r/Music/',\n",
       "  'timestamp': 1717729316,\n",
       "  'total_member_count': 33839791,\n",
       "  'total_online_count': 601},\n",
       " {'link': 'https://www.reddit.com/r/movies/',\n",
       "  'timestamp': 1717729316,\n",
       "  'total_member_count': 32999868,\n",
       "  'total_online_count': 3210},\n",
       " {'link': 'https://www.reddit.com/r/science/',\n",
       "  'timestamp': 1717729316,\n",
       "  'total_member_count': 32132086,\n",
       "  'total_online_count': 1408},\n",
       " {'link': 'https://www.reddit.com/r/memes/',\n",
       "  'timestamp': 1717729316,\n",
       "  'total_member_count': 31892012,\n",
       "  'total_online_count': 1020},\n",
       " {'link': 'https://www.reddit.com/r/Showerthoughts/',\n",
       "  'timestamp': 1717729316,\n",
       "  'total_member_count': 31246428,\n",
       "  'total_online_count': 514},\n",
       " {'link': 'https://www.reddit.com/r/pics/',\n",
       "  'timestamp': 1717729316,\n",
       "  'total_member_count': 30856814,\n",
       "  'total_online_count': 4594},\n",
       " {'link': 'https://www.reddit.com/r/Jokes/',\n",
       "  'timestamp': 1717729316,\n",
       "  'total_member_count': 28779926,\n",
       "  'total_online_count': 454},\n",
       " {'link': 'https://www.reddit.com/r/news/',\n",
       "  'timestamp': 1717729316,\n",
       "  'total_member_count': 28046107,\n",
       "  'total_online_count': 3346},\n",
       " {'link': 'https://www.reddit.com/r/videos/',\n",
       "  'timestamp': 1717729316,\n",
       "  'total_member_count': 26863755,\n",
       "  'total_online_count': 1832},\n",
       " {'link': 'https://www.reddit.com/r/space/',\n",
       "  'timestamp': 1717729316,\n",
       "  'total_member_count': 25701179,\n",
       "  'total_online_count': 526},\n",
       " {'link': 'https://www.reddit.com/r/askscience/',\n",
       "  'timestamp': 1717729316,\n",
       "  'total_member_count': 25170531,\n",
       "  'total_online_count': 388},\n",
       " {'link': 'https://www.reddit.com/r/DIY',\n",
       "  'timestamp': 1717729316,\n",
       "  'total_member_count': 24440287,\n",
       "  'total_online_count': 576},\n",
       " {'link': 'https://www.reddit.com/r/books/',\n",
       "  'timestamp': 1717729316,\n",
       "  'total_member_count': 24348068,\n",
       "  'total_online_count': 495},\n",
       " {'link': 'https://www.reddit.com/r/nottheonion/',\n",
       "  'timestamp': 1717729316,\n",
       "  'total_member_count': 23950335,\n",
       "  'total_online_count': 1630},\n",
       " {'link': 'https://www.reddit.com/r/EarthPorn/',\n",
       "  'timestamp': 1717729316,\n",
       "  'total_member_count': 23746863,\n",
       "  'total_online_count': 402},\n",
       " {'link': 'https://www.reddit.com/r/food/',\n",
       "  'timestamp': 1717729316,\n",
       "  'total_member_count': 23629349,\n",
       "  'total_online_count': 448},\n",
       " {'link': 'https://www.reddit.com/r/mildlyinteresting/',\n",
       "  'timestamp': 1717729316,\n",
       "  'total_member_count': 23490543,\n",
       "  'total_online_count': 1959},\n",
       " {'link': 'https://www.reddit.com/r/explainlikeimfive/',\n",
       "  'timestamp': 1717729316,\n",
       "  'total_member_count': 22860188,\n",
       "  'total_online_count': 1168},\n",
       " {'link': 'https://www.reddit.com/r/LifeProTips/',\n",
       "  'timestamp': 1717729316,\n",
       "  'total_member_count': 22636480,\n",
       "  'total_online_count': 877},\n",
       " {'link': 'https://www.reddit.com/r/IAmA/',\n",
       "  'timestamp': 1717729316,\n",
       "  'total_member_count': 22571549,\n",
       "  'total_online_count': 215},\n",
       " {'link': 'https://www.reddit.com/r/Art/',\n",
       "  'timestamp': 1717729316,\n",
       "  'total_member_count': 22452838,\n",
       "  'total_online_count': 169},\n",
       " {'link': 'https://www.reddit.com/r/gadgets/',\n",
       "  'timestamp': 1717729316,\n",
       "  'total_member_count': 22374850,\n",
       "  'total_online_count': 134},\n",
       " {'link': 'https://www.reddit.com/r/GetMotivated/',\n",
       "  'timestamp': 1717729316,\n",
       "  'total_member_count': 22145921,\n",
       "  'total_online_count': 62},\n",
       " {'link': 'https://www.reddit.com/r/gifs/',\n",
       "  'timestamp': 1717729316,\n",
       "  'total_member_count': 21663367,\n",
       "  'total_online_count': 96},\n",
       " {'link': 'https://www.reddit.com/r/sports/',\n",
       "  'timestamp': 1717729316,\n",
       "  'total_member_count': 21018828,\n",
       "  'total_online_count': 1381},\n",
       " {'link': 'https://www.reddit.com/r/dataisbeautiful/',\n",
       "  'timestamp': 1717729316,\n",
       "  'total_member_count': 20833939,\n",
       "  'total_online_count': 874},\n",
       " {'link': 'https://www.reddit.com/r/Documentaries/',\n",
       "  'timestamp': 1717729316,\n",
       "  'total_member_count': 20415819,\n",
       "  'total_online_count': 52},\n",
       " {'link': 'https://www.reddit.com/r/Futurology/',\n",
       "  'timestamp': 1717729316,\n",
       "  'total_member_count': 20252678,\n",
       "  'total_online_count': 241},\n",
       " {'link': 'https://www.reddit.com/r/UpliftingNews/',\n",
       "  'timestamp': 1717729316,\n",
       "  'total_member_count': 19783525,\n",
       "  'total_online_count': 156},\n",
       " {'link': 'https://www.reddit.com/r/photoshopbattles/',\n",
       "  'timestamp': 1717729316,\n",
       "  'total_member_count': 19429039,\n",
       "  'total_online_count': 52},\n",
       " {'link': 'https://www.reddit.com/r/personalfinance/',\n",
       "  'timestamp': 1717729316,\n",
       "  'total_member_count': 19239614,\n",
       "  'total_online_count': 758},\n",
       " {'link': 'https://www.reddit.com/r/tifu/',\n",
       "  'timestamp': 1717729316,\n",
       "  'total_member_count': 18595435,\n",
       "  'total_online_count': 410},\n",
       " {'link': 'https://www.reddit.com/r/OldSchoolCool/',\n",
       "  'timestamp': 1717729316,\n",
       "  'total_member_count': 18528361,\n",
       "  'total_online_count': 558},\n",
       " {'link': 'https://www.reddit.com/r/history/',\n",
       "  'timestamp': 1717729316,\n",
       "  'total_member_count': 18056194,\n",
       "  'total_online_count': 93},\n",
       " {'link': 'https://www.reddit.com/r/listentothis/',\n",
       "  'timestamp': 1717729316,\n",
       "  'total_member_count': 18030610,\n",
       "  'total_online_count': 53},\n",
       " {'link': 'https://www.reddit.com/r/WritingPrompts/',\n",
       "  'timestamp': 1717729316,\n",
       "  'total_member_count': 18019825,\n",
       "  'total_online_count': 166},\n",
       " {'link': 'https://www.reddit.com/r/nosleep/',\n",
       "  'timestamp': 1717729316,\n",
       "  'total_member_count': 17994989,\n",
       "  'total_online_count': 185},\n",
       " {'link': 'https://www.reddit.com/r/philosophy/',\n",
       "  'timestamp': 1717729316,\n",
       "  'total_member_count': 17864162,\n",
       "  'total_online_count': 43},\n",
       " {'link': 'https://www.reddit.com/r/television/',\n",
       "  'timestamp': 1717729316,\n",
       "  'total_member_count': 17181366,\n",
       "  'total_online_count': 1207},\n",
       " {'link': 'https://www.reddit.com/r/InternetIsBeautiful/',\n",
       "  'timestamp': 1717729316,\n",
       "  'total_member_count': 16657825,\n",
       "  'total_online_count': 72},\n",
       " {'link': 'https://www.reddit.com/r/technology/',\n",
       "  'timestamp': 1717729316,\n",
       "  'total_member_count': 16468241,\n",
       "  'total_online_count': 2653},\n",
       " {'link': 'https://www.reddit.com/r/wholesomememes/',\n",
       "  'timestamp': 1717729316,\n",
       "  'total_member_count': 16331547,\n",
       "  'total_online_count': 966},\n",
       " {'link': 'https://www.reddit.com/r/wallstreetbets/',\n",
       "  'timestamp': 1717729316,\n",
       "  'total_member_count': 15650149,\n",
       "  'total_online_count': 5624},\n",
       " {'link': 'https://www.reddit.com/r/Damnthatsinteresting/',\n",
       "  'timestamp': 1717729316,\n",
       "  'total_member_count': 15519143,\n",
       "  'total_online_count': 3607}]"
      ]
     },
     "execution_count": 3,
     "metadata": {},
     "output_type": "execute_result"
    }
   ],
   "source": [
    "data"
   ]
  }
 ],
 "metadata": {
  "kernelspec": {
   "display_name": "venv",
   "language": "python",
   "name": "python3"
  },
  "language_info": {
   "codemirror_mode": {
    "name": "ipython",
    "version": 3
   },
   "file_extension": ".py",
   "mimetype": "text/x-python",
   "name": "python",
   "nbconvert_exporter": "python",
   "pygments_lexer": "ipython3",
   "version": "3.10.13"
  }
 },
 "nbformat": 4,
 "nbformat_minor": 2
}
